{
  "nbformat": 4,
  "nbformat_minor": 0,
  "metadata": {
    "colab": {
      "provenance": [],
      "authorship_tag": "ABX9TyOOGvtjbs9kGssI1cW/mTvv",
      "include_colab_link": true
    },
    "kernelspec": {
      "name": "python3",
      "display_name": "Python 3"
    },
    "language_info": {
      "name": "python"
    }
  },
  "cells": [
    {
      "cell_type": "markdown",
      "metadata": {
        "id": "view-in-github",
        "colab_type": "text"
      },
      "source": [
        "<a href=\"https://colab.research.google.com/github/EricSiq/India_Missing_Persons_Analysis_2017-2022/blob/main/ClusteringUMLProject2.ipynb\" target=\"_parent\"><img src=\"https://colab.research.google.com/assets/colab-badge.svg\" alt=\"Open In Colab\"/></a>"
      ]
    },
    {
      "cell_type": "markdown",
      "source": [
        "[Kaggle Dataset: 5 Years Districtwise India Missing Person's Dataset](https://www.kaggle.com/datasets/ericsiq/india-5-years-districtwise-missing-persons-dataset)\n",
        "\n",
        "\n",
        "[GitHub Repo](https://github.com/EricSiq/India_Missing_Persons_Analysis_2017-2022)"
      ],
      "metadata": {
        "id": "hBeM9P0xOHFF"
      }
    },
    {
      "cell_type": "code",
      "source": [
        "!pip install tabulate\n"
      ],
      "metadata": {
        "id": "OssOlZIYLvLn"
      },
      "execution_count": null,
      "outputs": []
    },
    {
      "cell_type": "markdown",
      "source": [
        "\n",
        "# Overview:\n",
        "\n",
        "> This notebook demonstrates how to load multiple CSV datasets spanning the years, 2017 to 2022, merge them into a single dataframe, and perform several data processing and exploratory data analysis (EDA) steps. The sections below cover:\n",
        "\n",
        "\n",
        "\n",
        "\n",
        "\n"
      ],
      "metadata": {
        "id": "MDEYWx-3f6ct"
      }
    },
    {
      "cell_type": "code",
      "source": [
        "# Importing libraries\n",
        "import pandas as pd         # For data manipulation and analysis\n",
        "import numpy as np          # For numerical operations\n",
        "import matplotlib.pyplot as plt  # For plotting graphs\n",
        "import seaborn as sns       # For enhanced visualization\n",
        "from tabulate import tabulate #For tabular outputs\n",
        "from sklearn.preprocessing import StandardScaler # For Feature scaling"
      ],
      "metadata": {
        "id": "gLp-1IDhg3OG"
      },
      "execution_count": 2,
      "outputs": []
    },
    {
      "cell_type": "markdown",
      "source": [
        "\n",
        "\n",
        "# Data Loading"
      ],
      "metadata": {
        "id": "EPIgalWoggVJ"
      }
    },
    {
      "cell_type": "markdown",
      "source": [
        "\n",
        "\n",
        "> Upon loading of the datasets, it is noticed there is a serious disrepancy between column values for age groups.\n",
        "\n",
        "\n",
        "\n",
        "The age group classifications differ notably between the 2018–2020 and 2021–2022 datasets:\n",
        "\n",
        "\n",
        "2018–2020: Age brackets are more granular and traditional:\n",
        "\n",
        "Below 5 years\n",
        "\n",
        "5–14 years\n",
        "\n",
        "14–18 years\n",
        "\n",
        "18–30 years\n",
        "\n",
        "30–45 years\n",
        "\n",
        "45–60 years\n",
        "\n",
        "60 years & above\n",
        "\n",
        "\n",
        "\n",
        "In 2021–2022: The classification structure has changed:\n",
        "\n",
        "Below 12 years\n",
        "\n",
        "12–16 years\n",
        "\n",
        "16–18 years\n",
        "\n",
        "18 years & above"
      ],
      "metadata": {
        "id": "r2asmkDAgpaX"
      }
    },
    {
      "cell_type": "code",
      "source": [
        "%matplotlib inline\n",
        "\n",
        "# Setting a style for seaborn plots\n",
        "sns.set(style=\"whitegrid\")"
      ],
      "metadata": {
        "id": "7Oyjae-CpTS0"
      },
      "execution_count": 3,
      "outputs": []
    },
    {
      "cell_type": "code",
      "source": [
        "\n",
        "# Section 1: Define file paths for each year's data.\n",
        "file_paths = {\n",
        "    2018: \"/content/DistrictwiseMissingPersons2018.csv\",\n",
        "    2019: \"/content/DistrictwiseMissingPersons2019.csv\",\n",
        "    2020: \"/content/DistrictwiseMissingPersons2020.csv\",\n",
        "    2021: \"/content/DistrictwiseMissingPersons2021.csv\",\n",
        "    2022: \"/content/DistrictwiseMissingPersons2022.csv\"\n",
        "}\n"
      ],
      "metadata": {
        "id": "Tz38TYOioqPb"
      },
      "execution_count": 4,
      "outputs": []
    },
    {
      "cell_type": "markdown",
      "source": [
        "\n",
        "\n",
        "> Due to disrepancies between columns, we need to remove unnessessary columns and make them uniform across 2018-2022 years.\n",
        "\n",
        "> We have to group all age groups into either Children or 18+ age groups to simplify the age groups.\n",
        "\n"
      ],
      "metadata": {
        "id": "oWfmMmyA0OcN"
      }
    },
    {
      "cell_type": "markdown",
      "source": [
        "#   Data Cleaning:\n",
        "1.     - Reading the CSV files into pandas dataframes.\n",
        "2.     - Removing Unnessessary Column values\n",
        "3.     - Examining initial structure & description of the data."
      ],
      "metadata": {
        "id": "X5HPYAKfy_xO"
      }
    },
    {
      "cell_type": "code",
      "source": [
        "\n",
        "# A list to hold all processed DataFrames.\n",
        "dfs = []\n",
        "\n",
        "# Section 2: Process each dataset according to its year.\n",
        "for year, path in file_paths.items():\n",
        "    # Load file with fallback encoding if necessary\n",
        "    try:\n",
        "        df = pd.read_csv(path)\n",
        "    except UnicodeDecodeError:\n",
        "        try:\n",
        "            df = pd.read_csv(path, encoding='ISO-8859-1')\n",
        "            print(f\"Used fallback encoding for {year}\")\n",
        "        except Exception as e:\n",
        "            print(f\"Failed to load {year}: {e}\")\n",
        "            continue\n",
        "\n",
        "    # Add the year column if not already present.\n",
        "    df['Year'] = year\n",
        "\n",
        "    # Remove any leading/trailing whitespace from column headers.\n",
        "    df.columns = df.columns.str.strip()\n",
        "\n",
        "    if year <= 2020:\n",
        "        # For datasets 2018-2020, we have the detailed age-group columns.\n",
        "        # Male columns\n",
        "        male_below_18 = [\n",
        "            'Male_Below_5_years',\n",
        "            'Male_5_years_&_Above_Below_14_years',\n",
        "            'Male_14_years_&_Above_Below_18_years'\n",
        "        ]\n",
        "        male_above_18 = [\n",
        "            'Male_18_years_&_Above_Below_30_years',\n",
        "            'Male_30_years_&_Above_Below_45_years',\n",
        "            'Male_45_years_&_Above_Below_60_years',\n",
        "            'Male_60_years_&_Above'\n",
        "        ]\n",
        "\n",
        "        # Female columns\n",
        "        female_below_18 = [\n",
        "            'Female_Below_5_years',\n",
        "            'Female_5_years_&_Above_Below_14_years',\n",
        "            'Female_14_years_&_Above_Below_18_years'\n",
        "        ]\n",
        "        female_above_18 = [\n",
        "            'Female_18_years_&_Above_Below_30_years',\n",
        "            'Female_30_years_&_Above_Below_45_years',\n",
        "            'Female_45_years_&_Above_Below_60_years',\n",
        "            'Female_60_years_&_Above'\n",
        "        ]\n",
        "\n",
        "        # Transgender columns\n",
        "        trans_below_18 = [\n",
        "            'Transgender_Below_5_years',\n",
        "            'Transgender_5_years_&_Above_Below_14_years',\n",
        "            'Transgender_14_years_&_Above_Below_18_years'\n",
        "        ]\n",
        "        trans_above_18 = [\n",
        "            'Transgender_18_years_&_Above_Below_30_years',\n",
        "            'Transgender_30_years_&_Above_Below_45_years',\n",
        "            'Transgender_45_years_&_Above_Below_60_years',\n",
        "            'Transgender_60_years_&_Above'\n",
        "        ]\n",
        "\n",
        "        # Total columns\n",
        "        total_below_18 = [\n",
        "            'Total_Below_5_years',\n",
        "            'Total_5_years_&_Above_Below_14_years',\n",
        "            'Total_14_years_&_Above_Below_18_years'\n",
        "        ]\n",
        "        total_above_18 = [\n",
        "            'Total_18_years_&_Above_Below_30_years',\n",
        "            'Total_30_years_&_Above_Below_45_years',\n",
        "            'Total_45_years_&_Above_Below_60_years',\n",
        "            'Total_60_years_&_Above'\n",
        "        ]\n",
        "\n",
        "        # Sum up the relevant columns for each group.\n",
        "        df['Male_Below_18'] = df[male_below_18].sum(axis=1)\n",
        "        df['Male_18_and_above'] = df[male_above_18].sum(axis=1)\n",
        "\n",
        "        df['Female_Below_18'] = df[female_below_18].sum(axis=1)\n",
        "        df['Female_18_and_above'] = df[female_above_18].sum(axis=1)\n",
        "\n",
        "        df['Transgender_Below_18'] = df[trans_below_18].sum(axis=1)\n",
        "        df['Transgender_18_and_above'] = df[trans_above_18].sum(axis=1)\n",
        "\n",
        "        df['Total_Below_18'] = df[total_below_18].sum(axis=1)\n",
        "        df['Total_18_and_above'] = df[total_above_18].sum(axis=1)\n",
        "\n",
        "        # Drop the original detailed columns.\n",
        "        drop_cols = (male_below_18 + male_above_18 +\n",
        "                     female_below_18 + female_above_18 +\n",
        "                     trans_below_18 + trans_above_18 +\n",
        "                     total_below_18 + total_above_18)\n",
        "        df.drop(columns=drop_cols, inplace=True, errors='ignore')\n",
        "\n",
        "    else:\n",
        "        # For 2021-2022, the files already include aggregated age-group columns.\n",
        "        # Rename them to standardized names.\n",
        "        rename_map = {\n",
        "            'Male_Children': 'Male_Below_18',\n",
        "            'Male_18_years_&_Above': 'Male_18_and_above',\n",
        "            'Female_Children': 'Female_Below_18',\n",
        "            'Female_18_years_&_Above': 'Female_18_and_above',\n",
        "            'Transgender_Children': 'Transgender_Below_18',\n",
        "            'Transgender_18_years_&_Above': 'Transgender_18_and_above',\n",
        "            'Total_Children': 'Total_Below_18',\n",
        "            'Total_18_years_&_Above': 'Total_18_and_above'\n",
        "        }\n",
        "        df.rename(columns=rename_map, inplace=True)\n",
        "\n",
        "        # Drop any extra detailed age-group columns that are not needed.\n",
        "        drop_cols = [\n",
        "            'Male_Below_12_years', 'Male_12_years_&_Above_Below_16_years', 'Male_16_years_&_Above_Below_18_years',\n",
        "            'Female_Below_12_years', 'Female_12_years_&_Above_Below_16_years', 'Female_16_years_&_Above_Below_18_years',\n",
        "            'Transgender_Below_12_years', 'Transgender_12_years_&_Above_Below_16_years', 'Transgender_16_years_&_Above_Below_18_years',\n",
        "            'Total_Below_12_years', 'Total_12_years_&_Above_Below_14_years', 'Total_14_years_&_Above_Below_18_years'\n",
        "        ]\n",
        "        df.drop(columns=drop_cols, inplace=True, errors='ignore')\n",
        "\n",
        "    # Append the processed DataFrame to our list.\n",
        "    dfs.append(df)\n",
        "    print(f\"Loaded and processed data for {year} with shape: {df.shape}\")\n",
        "\n",
        "# Optionally, display a preview of the first processed DataFrame.\n",
        "print(\"\\nPreview of the processed dataset for the first file:\")\n",
        "print(tabulate(dfs[0].head(10), headers='keys', tablefmt='pretty'))"
      ],
      "metadata": {
        "colab": {
          "base_uri": "https://localhost:8080/"
        },
        "id": "c7i5-R6ly3eO",
        "outputId": "0dd38955-083b-4707-8d8c-02acbd2554e4"
      },
      "execution_count": 5,
      "outputs": [
        {
          "output_type": "stream",
          "name": "stdout",
          "text": [
            "Loaded and processed data for 2018 with shape: (892, 15)\n",
            "Loaded and processed data for 2019 with shape: (912, 15)\n",
            "Loaded and processed data for 2020 with shape: (932, 15)\n",
            "Loaded and processed data for 2021 with shape: (941, 15)\n",
            "Loaded and processed data for 2022 with shape: (969, 15)\n",
            "\n",
            "Preview of the processed dataset for the first file:\n",
            "+---+------+----------------+------------------+------------+--------------+-------------------+-------------+---------------+-------------------+-----------------+---------------------+----------------------+--------------------------+----------------+--------------------+\n",
            "|   | Year |     State      |     District     | Total_Male | Total_Female | Total_Transgender | Grand_Total | Male_Below_18 | Male_18_and_above | Female_Below_18 | Female_18_and_above | Transgender_Below_18 | Transgender_18_and_above | Total_Below_18 | Total_18_and_above |\n",
            "+---+------+----------------+------------------+------------+--------------+-------------------+-------------+---------------+-------------------+-----------------+---------------------+----------------------+--------------------------+----------------+--------------------+\n",
            "| 0 | 2018 | Andhra Pradesh |    Anantapur     |    186     |     655      |         0         |     841     |      46       |       140.0       |       232       |         423         |          0           |            0             |      278       |        563         |\n",
            "| 1 | 2018 | Andhra Pradesh |     Chittoor     |     93     |     354      |         0         |     447     |      37       |       56.0        |       138       |         216         |          0           |            0             |      175       |        272         |\n",
            "| 2 | 2018 | Andhra Pradesh |     Cuddapah     |     66     |     156      |         0         |     222     |      26       |       40.0        |       58        |         98          |          0           |            0             |       84       |        138         |\n",
            "| 3 | 2018 | Andhra Pradesh |  East Godavari   |    281     |     411      |         0         |     692     |      71       |       210.0       |       157       |         254         |          0           |            0             |      228       |        464         |\n",
            "| 4 | 2018 | Andhra Pradesh | Guntakal Railway |     9      |      9       |         0         |     18      |       2       |        7.0        |        1        |          8          |          0           |            0             |       3        |         15         |\n",
            "| 5 | 2018 | Andhra Pradesh |      Guntur      |    247     |     348      |         0         |     595     |      86       |       161.0       |       73        |         275         |          0           |            0             |      159       |        436         |\n",
            "| 6 | 2018 | Andhra Pradesh |   Guntur Urban   |    202     |     293      |         0         |     495     |      43       |       159.0       |       46        |         247         |          0           |            0             |       89       |        406         |\n",
            "| 7 | 2018 | Andhra Pradesh |     Krishna      |    156     |     264      |         0         |     420     |      19       |       137.0       |       17        |         247         |          0           |            0             |       36       |        384         |\n",
            "| 8 | 2018 | Andhra Pradesh |     Kurnool      |    153     |     359      |         0         |     512     |      64       |       89.0        |       149       |         210         |          0           |            0             |      213       |        299         |\n",
            "| 9 | 2018 | Andhra Pradesh |     Nellore      |    156     |     332      |        488        |     976     |      33       |       123.0       |       99        |         233         |         132          |           356            |      264       |        712         |\n",
            "+---+------+----------------+------------------+------------+--------------+-------------------+-------------+---------------+-------------------+-----------------+---------------------+----------------------+--------------------------+----------------+--------------------+\n"
          ]
        }
      ]
    },
    {
      "cell_type": "code",
      "source": [
        "print(tabulate(dfs[1].head(10), headers='keys', tablefmt='pretty'))"
      ],
      "metadata": {
        "colab": {
          "base_uri": "https://localhost:8080/"
        },
        "id": "-yoCgKmvMkvF",
        "outputId": "7d774de8-d934-4005-dff2-c3ae8ade471b"
      },
      "execution_count": 6,
      "outputs": [
        {
          "output_type": "stream",
          "name": "stdout",
          "text": [
            "+---+------+----------------+------------------+------------+--------------+-------------------+-------------+---------------+-------------------+-----------------+---------------------+----------------------+--------------------------+----------------+--------------------+\n",
            "|   | Year |     State      |     District     | Total_Male | Total_Female | Total_Transgender | Grand_Total | Male_Below_18 | Male_18_and_above | Female_Below_18 | Female_18_and_above | Transgender_Below_18 | Transgender_18_and_above | Total_Below_18 | Total_18_and_above |\n",
            "+---+------+----------------+------------------+------------+--------------+-------------------+-------------+---------------+-------------------+-----------------+---------------------+----------------------+--------------------------+----------------+--------------------+\n",
            "| 0 | 2019 | Andhra Pradesh |    Anantapur     |    257     |     766      |         0         |    1023     |      60       |        197        |       280       |        486.0        |          0           |            0             |      340       |        683         |\n",
            "| 1 | 2019 | Andhra Pradesh |     Chittoor     |     99     |     319      |         0         |     418     |      44       |        55         |       151       |        168.0        |          0           |            0             |      195       |        223         |\n",
            "| 2 | 2019 | Andhra Pradesh |     Cuddapah     |    163     |     475      |         0         |     638     |      52       |        111        |       176       |        299.0        |          0           |            0             |      228       |        410         |\n",
            "| 3 | 2019 | Andhra Pradesh |  East Godavari   |    215     |     359      |         9         |     583     |      27       |        188        |       102       |        257.0        |          9           |            0             |      138       |        445         |\n",
            "| 4 | 2019 | Andhra Pradesh | Guntakal Railway |     6      |      4       |         0         |     10      |       1       |         5         |        0        |         4.0         |          0           |            0             |       1        |         9          |\n",
            "| 5 | 2019 | Andhra Pradesh |      Guntur      |    279     |     440      |         0         |     719     |      85       |        194        |       113       |        327.0        |          0           |            0             |      198       |        521         |\n",
            "| 6 | 2019 | Andhra Pradesh |   Guntur Urban   |    202     |     293      |         0         |     495     |      43       |        159        |       46        |        247.0        |          0           |            0             |       89       |        406         |\n",
            "| 7 | 2019 | Andhra Pradesh |     Krishna      |    182     |     282      |         0         |     464     |      13       |        169        |       27        |        255.0        |          0           |            0             |       40       |        424         |\n",
            "| 8 | 2019 | Andhra Pradesh |     Kurnool      |    205     |     504      |         0         |     709     |      43       |        162        |       174       |        330.0        |          0           |            0             |      217       |        492         |\n",
            "| 9 | 2019 | Andhra Pradesh |     Nellore      |    141     |     345      |         0         |     486     |      36       |        105        |       111       |        234.0        |          0           |            0             |      147       |        339         |\n",
            "+---+------+----------------+------------------+------------+--------------+-------------------+-------------+---------------+-------------------+-----------------+---------------------+----------------------+--------------------------+----------------+--------------------+\n"
          ]
        }
      ]
    },
    {
      "cell_type": "code",
      "source": [
        "print(tabulate(dfs[2].head(10), headers='keys', tablefmt='pretty'))"
      ],
      "metadata": {
        "colab": {
          "base_uri": "https://localhost:8080/"
        },
        "id": "jyuPM7e4MoE0",
        "outputId": "96ede958-1c18-4f7c-d7ff-ede522c971dd"
      },
      "execution_count": 7,
      "outputs": [
        {
          "output_type": "stream",
          "name": "stdout",
          "text": [
            "+---+------+----------------+---------------+------------+--------------+-------------------+-------------+---------------+-------------------+-----------------+---------------------+----------------------+--------------------------+----------------+--------------------+\n",
            "|   | Year |     State      |   District    | Total_Male | Total_Female | Total_Transgender | Grand_Total | Male_Below_18 | Male_18_and_above | Female_Below_18 | Female_18_and_above | Transgender_Below_18 | Transgender_18_and_above | Total_Below_18 | Total_18_and_above |\n",
            "+---+------+----------------+---------------+------------+--------------+-------------------+-------------+---------------+-------------------+-----------------+---------------------+----------------------+--------------------------+----------------+--------------------+\n",
            "| 0 | 2020 | Andhra Pradesh |   Anantapur   |    209     |     869      |         0         |    1078     |      32       |        177        |       284       |         585         |          0           |            0             |      316       |        762         |\n",
            "| 1 | 2020 | Andhra Pradesh |   Chittoor    |    143     |     695      |         0         |     838     |      37       |        106        |       262       |         433         |          0           |            0             |      299       |        539         |\n",
            "| 2 | 2020 | Andhra Pradesh |   Cuddapah    |    167     |     415      |         0         |     582     |      47       |        120        |       138       |         277         |          0           |            0             |      185       |        397         |\n",
            "| 3 | 2020 | Andhra Pradesh | East Godavari |    311     |     515      |         0         |     826     |      40       |        271        |       125       |         390         |          0           |            0             |      165       |        661         |\n",
            "| 4 | 2020 | Andhra Pradesh |    Guntur     |    232     |     410      |         0         |     642     |      61       |        171        |       111       |         299         |          0           |            0             |      172       |        470         |\n",
            "| 5 | 2020 | Andhra Pradesh | Guntur Urban  |    151     |     281      |         0         |     432     |      30       |        121        |       77        |         204         |          0           |            0             |      107       |        325         |\n",
            "| 6 | 2020 | Andhra Pradesh |    Krishna    |    199     |     333      |         0         |     532     |      33       |        166        |       37        |         296         |          0           |            0             |       70       |        462         |\n",
            "| 7 | 2020 | Andhra Pradesh |    Kurnool    |    176     |     634      |         0         |     810     |      28       |        148        |       217       |         417         |          0           |            0             |      245       |        565         |\n",
            "| 8 | 2020 | Andhra Pradesh |    Nellore    |    141     |     425      |         0         |     566     |      27       |        114        |       120       |         305         |          0           |            0             |      147       |        419         |\n",
            "| 9 | 2020 | Andhra Pradesh |   Prakasham   |    164     |     371      |         0         |     535     |      53       |        111        |       85        |         286         |          0           |            0             |      138       |        397         |\n",
            "+---+------+----------------+---------------+------------+--------------+-------------------+-------------+---------------+-------------------+-----------------+---------------------+----------------------+--------------------------+----------------+--------------------+\n"
          ]
        }
      ]
    },
    {
      "cell_type": "code",
      "source": [
        "print(tabulate(dfs[3].head(10), headers='keys', tablefmt='pretty'))"
      ],
      "metadata": {
        "colab": {
          "base_uri": "https://localhost:8080/"
        },
        "id": "-R5NTRv2MrOc",
        "outputId": "cebb401f-6f4e-4d5a-8e04-1b371a3bbc9c"
      },
      "execution_count": 8,
      "outputs": [
        {
          "output_type": "stream",
          "name": "stdout",
          "text": [
            "+---+------+----------------+---------------+------------+---------------+-------------------+--------------+-----------------+---------------------+-------------------+----------------------+--------------------------+-------------+----------------+--------------------+\n",
            "|   | Year |     State      |   District    | Total_Male | Male_Below_18 | Male_18_and_above | Total_Female | Female_Below_18 | Female_18_and_above | Total_Transgender | Transgender_Below_18 | Transgender_18_and_above | Grand_Total | Total_Below_18 | Total_18_and_above |\n",
            "+---+------+----------------+---------------+------------+---------------+-------------------+--------------+-----------------+---------------------+-------------------+----------------------+--------------------------+-------------+----------------+--------------------+\n",
            "| 0 | 2021 | Andhra Pradesh |   Anantapur   |    291     |      43       |        248        |     1224     |       446       |         778         |         0         |          0           |            0             |    1515     |      489       |        1026        |\n",
            "| 1 | 2021 | Andhra Pradesh |   Chittoor    |    167     |      45       |        122        |     727      |       265       |         462         |         0         |          0           |            0             |     894     |      310       |        584         |\n",
            "| 2 | 2021 | Andhra Pradesh |   Cuddapah    |    209     |      51       |        158        |     573      |       204       |         369         |        10         |          5           |            5             |     792     |      260       |        532         |\n",
            "| 3 | 2021 | Andhra Pradesh | East Godavari |    353     |      29       |        324        |     693      |       191       |         502         |         0         |          0           |            0             |    1046     |      220       |        826         |\n",
            "| 4 | 2021 | Andhra Pradesh |    Guntur     |    280     |      82       |        198        |     667      |       206       |         461         |         0         |          0           |            0             |     947     |      288       |        659         |\n",
            "| 5 | 2021 | Andhra Pradesh | Guntur Urban  |    203     |      17       |        186        |     440      |       138       |         302         |         0         |          0           |            0             |     643     |      155       |        488         |\n",
            "| 6 | 2021 | Andhra Pradesh |    Krishna    |    204     |      31       |        173        |     346      |       32        |         314         |         0         |          0           |            0             |     550     |       63       |        487         |\n",
            "| 7 | 2021 | Andhra Pradesh |    Kurnool    |    299     |      93       |        206        |     865      |       261       |         604         |         0         |          0           |            0             |    1164     |      354       |        810         |\n",
            "| 8 | 2021 | Andhra Pradesh |    Nellore    |    187     |      50       |        137        |     529      |       177       |         352         |         0         |          0           |            0             |     716     |      227       |        489         |\n",
            "| 9 | 2021 | Andhra Pradesh |   Prakasham   |    191     |      53       |        138        |     575      |       198       |         377         |         0         |          0           |            0             |     766     |      251       |        515         |\n",
            "+---+------+----------------+---------------+------------+---------------+-------------------+--------------+-----------------+---------------------+-------------------+----------------------+--------------------------+-------------+----------------+--------------------+\n"
          ]
        }
      ]
    },
    {
      "cell_type": "code",
      "source": [
        "print(tabulate(dfs[4].head(10), headers='keys', tablefmt='pretty'))"
      ],
      "metadata": {
        "colab": {
          "base_uri": "https://localhost:8080/"
        },
        "id": "G6-2SVVTMtAE",
        "outputId": "3fa61164-4dc0-42d5-aefb-67ec0047b570"
      },
      "execution_count": 9,
      "outputs": [
        {
          "output_type": "stream",
          "name": "stdout",
          "text": [
            "+---+------+----------------+--------------------------+------------+---------------+-------------------+--------------+-----------------+---------------------+-------------------+----------------------+--------------------------+-------------+----------------+--------------------+\n",
            "|   | Year |     State      |         District         | Total_Male | Male_Below_18 | Male_18_and_above | Total_Female | Female_Below_18 | Female_18_and_above | Total_Transgender | Transgender_Below_18 | Transgender_18_and_above | Grand_Total | Total_Below_18 | Total_18_and_above |\n",
            "+---+------+----------------+--------------------------+------------+---------------+-------------------+--------------+-----------------+---------------------+-------------------+----------------------+--------------------------+-------------+----------------+--------------------+\n",
            "| 0 | 2022 | Andhra Pradesh |  Alluri Sitharama Raju   |     36     |       8       |        28         |      80      |       54        |         26          |         1         |          0           |            1             |     117     |       62       |         55         |\n",
            "| 1 | 2022 | Andhra Pradesh |        Anakapalli        |     89     |      20       |        69         |     197      |       56        |         141         |         0         |          0           |            0             |     286     |       76       |        210         |\n",
            "| 2 | 2022 | Andhra Pradesh |       Anantapuramu       |    217     |      38       |        179        |     651      |       220       |         431         |         0         |          0           |            0             |     868     |      258       |        610         |\n",
            "| 3 | 2022 | Andhra Pradesh |        Annamayya         |     91     |      31       |        60         |     292      |       135       |         157         |         0         |          0           |            0             |     383     |      166       |        217         |\n",
            "| 4 | 2022 | Andhra Pradesh |         Bapatla          |    121     |      24       |        97         |     297      |       79        |         218         |         4         |          3           |            1             |     422     |      106       |        316         |\n",
            "| 5 | 2022 | Andhra Pradesh |         Chittoor         |    114     |      18       |        96         |     538      |       177       |         361         |         0         |          0           |            0             |     652     |      195       |        457         |\n",
            "| 6 | 2022 | Andhra Pradesh | Dr BR Ambedkar Konaseema |    165     |      23       |        142        |     267      |       77        |         190         |         0         |          0           |            0             |     432     |      100       |        332         |\n",
            "| 7 | 2022 | Andhra Pradesh |      East Godavari       |    208     |      36       |        172        |     403      |       139       |         264         |         0         |          0           |            0             |     611     |      175       |        436         |\n",
            "| 8 | 2022 | Andhra Pradesh |          Eluru           |    227     |      27       |        200        |     413      |       98        |         315         |         0         |          0           |            0             |     640     |      125       |        515         |\n",
            "| 9 | 2022 | Andhra Pradesh |     Guntakal Railway     |     4      |       1       |         3         |      6       |        1        |          5          |         0         |          0           |            0             |     10      |       2        |         8          |\n",
            "+---+------+----------------+--------------------------+------------+---------------+-------------------+--------------+-----------------+---------------------+-------------------+----------------------+--------------------------+-------------+----------------+--------------------+\n"
          ]
        }
      ]
    },
    {
      "cell_type": "markdown",
      "source": [
        "#   Pre-processing:\n",
        "1.      - Analysing dataset values\n",
        "2.      - Merging the datasets.\n",
        "2.     - Handling missing values and data type conversions."
      ],
      "metadata": {
        "id": "DbloXJdWgsnv"
      }
    },
    {
      "cell_type": "code",
      "source": [
        "print(\"Columns in the DataFrame:\")\n",
        "print(df.columns.tolist())"
      ],
      "metadata": {
        "colab": {
          "base_uri": "https://localhost:8080/"
        },
        "id": "rGH2cJm0Si_j",
        "outputId": "ff6f2cf9-b568-4e2c-8d4e-efcce03d9816"
      },
      "execution_count": 10,
      "outputs": [
        {
          "output_type": "stream",
          "name": "stdout",
          "text": [
            "Columns in the DataFrame:\n",
            "['Year', 'State', 'District', 'Total_Male', 'Male_Below_18', 'Male_18_and_above', 'Total_Female', 'Female_Below_18', 'Female_18_and_above', 'Total_Transgender', 'Transgender_Below_18', 'Transgender_18_and_above', 'Grand_Total', 'Total_Below_18', 'Total_18_and_above']\n"
          ]
        }
      ]
    },
    {
      "cell_type": "code",
      "source": [
        "# Concatenate all dataframes into a single dataframe\n",
        "data = pd.concat(dfs, ignore_index=True)\n",
        "\n",
        "# Display combined dataframe shape and basic info\n",
        "print(\"Combined dataset shape:\", data.shape)\n",
        "print(\"\\nDataset Info:\")\n",
        "data.info()\n",
        "\n",
        "# Check for missing values in each column\n",
        "missing_values = data.isna().sum()\n",
        "print(\"\\nMissing Values per column:\\n\", missing_values)"
      ],
      "metadata": {
        "colab": {
          "base_uri": "https://localhost:8080/"
        },
        "id": "vNZKKmv-r-nh",
        "outputId": "ffd86201-65b9-47a1-acce-e22918fe7789"
      },
      "execution_count": 11,
      "outputs": [
        {
          "output_type": "stream",
          "name": "stdout",
          "text": [
            "Combined dataset shape: (4646, 15)\n",
            "\n",
            "Dataset Info:\n",
            "<class 'pandas.core.frame.DataFrame'>\n",
            "RangeIndex: 4646 entries, 0 to 4645\n",
            "Data columns (total 15 columns):\n",
            " #   Column                    Non-Null Count  Dtype  \n",
            "---  ------                    --------------  -----  \n",
            " 0   Year                      4646 non-null   int64  \n",
            " 1   State                     4646 non-null   object \n",
            " 2   District                  4646 non-null   object \n",
            " 3   Total_Male                4646 non-null   int64  \n",
            " 4   Total_Female              4646 non-null   int64  \n",
            " 5   Total_Transgender         4646 non-null   int64  \n",
            " 6   Grand_Total               4646 non-null   int64  \n",
            " 7   Male_Below_18             4646 non-null   int64  \n",
            " 8   Male_18_and_above         4646 non-null   float64\n",
            " 9   Female_Below_18           4646 non-null   int64  \n",
            " 10  Female_18_and_above       4646 non-null   float64\n",
            " 11  Transgender_Below_18      4646 non-null   int64  \n",
            " 12  Transgender_18_and_above  4646 non-null   int64  \n",
            " 13  Total_Below_18            4646 non-null   int64  \n",
            " 14  Total_18_and_above        4646 non-null   int64  \n",
            "dtypes: float64(2), int64(11), object(2)\n",
            "memory usage: 544.6+ KB\n",
            "\n",
            "Missing Values per column:\n",
            " Year                        0\n",
            "State                       0\n",
            "District                    0\n",
            "Total_Male                  0\n",
            "Total_Female                0\n",
            "Total_Transgender           0\n",
            "Grand_Total                 0\n",
            "Male_Below_18               0\n",
            "Male_18_and_above           0\n",
            "Female_Below_18             0\n",
            "Female_18_and_above         0\n",
            "Transgender_Below_18        0\n",
            "Transgender_18_and_above    0\n",
            "Total_Below_18              0\n",
            "Total_18_and_above          0\n",
            "dtype: int64\n"
          ]
        }
      ]
    },
    {
      "cell_type": "markdown",
      "source": [
        "\n",
        "*Handling Missing Values:*\n",
        "\n",
        "  - Remove rows with missing key values."
      ],
      "metadata": {
        "id": "s4Z-5PetsCCi"
      }
    },
    {
      "cell_type": "code",
      "source": [
        "# Display all rows that have at least one missing value\n",
        "rows_with_missing = data[data.isna().any(axis=1)]\n",
        "print(\"\\nRows with missing values:\")\n",
        "print(rows_with_missing)\n",
        "\n",
        "# Create a new DataFrame by removing rows with missing values\n",
        "data_clean = data.dropna()\n",
        "data_clean.shape\n",
        "data_clean.to_csv(\"data_clean.csv\", index=False)\n",
        "\n"
      ],
      "metadata": {
        "colab": {
          "base_uri": "https://localhost:8080/"
        },
        "id": "HV7o9z334Kl0",
        "outputId": "589c86a7-5388-4b03-c802-514d0d6bf36d"
      },
      "execution_count": 16,
      "outputs": [
        {
          "output_type": "stream",
          "name": "stdout",
          "text": [
            "\n",
            "Rows with missing values:\n",
            "Empty DataFrame\n",
            "Columns: [Year, State, District, Total_Male, Total_Female, Total_Transgender, Grand_Total, Male_Below_18, Male_18_and_above, Female_Below_18, Female_18_and_above, Transgender_Below_18, Transgender_18_and_above, Total_Below_18, Total_18_and_above]\n",
            "Index: []\n"
          ]
        }
      ]
    },
    {
      "cell_type": "markdown",
      "source": [
        "#   Exploratory Data Analysis (EDA):\n",
        "1.      - Statistical summary.\n",
        "2.      - Distribution of key variables.\n",
        "3.     - Trends across years and per district.\n",
        "4.     - Visualizations with appropriate parameters.\n"
      ],
      "metadata": {
        "id": "tKMafGG4gwDI"
      }
    },
    {
      "cell_type": "code",
      "source": [],
      "metadata": {
        "id": "1ZbLdOj-gz-9"
      },
      "execution_count": 12,
      "outputs": []
    },
    {
      "cell_type": "markdown",
      "source": [
        "#  Additional EDA Parameters and Considerations:\n",
        "\n",
        "\n",
        "\n",
        "\n",
        "\n",
        " Parameter Choice in Visualizations:  \n",
        "We have chosen appropriate figure sizes, bin counts, and color maps to maximize the clarity of the plots.\n",
        "\n",
        "\n",
        "Handling Outliers:\n",
        "The box plots can help identify potential outliers which might need further investigation.\n",
        "\n",
        "\n",
        "Time Trends:\n",
        "Using pivot tables and heatmaps to study trends across different years and districts enables a comprehensive overview.\n",
        "\n",
        "\n",
        "Correlation Analysis:\n",
        "\n",
        " Examining the correlation matrix helps us understand the relationships between various numerical variables.\n",
        "\n",
        "\n",
        "Adjustments:\n",
        "\n",
        "  Adjust column names or plot parameters as necessary once you confirm the actual structure of the dataset.\n",
        "\n",
        " This notebook template offers a comprehensive view of loading, pre-processing, and analyzing the data.\n",
        "\n",
        "Depending on the specifics of the dataset (column names, data quality, etc.), additional steps (e.g., more advanced imputation techniques or outlier detection) may be required."
      ],
      "metadata": {
        "id": "Vux9hNw2skZS"
      }
    },
    {
      "cell_type": "markdown",
      "source": [],
      "metadata": {
        "id": "TTrIC6aN-IgS"
      }
    },
    {
      "cell_type": "markdown",
      "source": [
        "# Feature Scaling"
      ],
      "metadata": {
        "id": "Mz03NsWN-Iz6"
      }
    },
    {
      "cell_type": "markdown",
      "source": [
        "> In order to avoid inaccurate features and collinearity;\n",
        "\n",
        "The dataset has columns such as:\n",
        "\n",
        "*   Total Columns: Total_Male, Total_Female, Total_Transgender, and Grand_Total\n",
        "\n",
        "*   Some columns are simply sums of others (for example, if Grand_Total equals the sum of Total_Male, Total_Female, and Total_Transgender, or if the overall totals are the sums of the age-specific columns), then including both could introduce collinearity.\n",
        "\n",
        "\n"
      ],
      "metadata": {
        "id": "HipHxFy7-M0A"
      }
    },
    {
      "cell_type": "code",
      "source": [
        "\n",
        "\n",
        "# Select the features for clustering\n",
        "features = ['Male_Below_18', 'Male_18_and_above', 'Female_Below_18', 'Female_18_and_above']\n",
        "X = data_clean[features].copy()\n",
        "\n",
        "# Retain label columns for interpretation\n",
        "labels = data_clean[['State', 'District', 'Year']].copy()\n",
        "\n",
        "# Standardize the features\n",
        "scaler = StandardScaler()\n",
        "X_scaled = scaler.fit_transform(X)\n"
      ],
      "metadata": {
        "id": "GJhjH068-Nup"
      },
      "execution_count": 17,
      "outputs": []
    },
    {
      "cell_type": "code",
      "source": [],
      "metadata": {
        "id": "9W2tCXaiysYK"
      },
      "execution_count": null,
      "outputs": []
    }
  ]
}